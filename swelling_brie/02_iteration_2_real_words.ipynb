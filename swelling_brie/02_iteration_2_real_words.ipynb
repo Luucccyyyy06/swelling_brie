{
 "cells": [
  {
   "cell_type": "markdown",
   "id": "ff14ea4f-5c37-40ff-abb2-4d81abf1758b",
   "metadata": {},
   "source": [
    "# Iteration 2 - Relationship between available words and letters provided"
   ]
  },
  {
   "cell_type": "markdown",
   "id": "e4a1dd6b-a55e-48c3-8faa-ed700b8764c3",
   "metadata": {},
   "source": [
    "Since starting the first notebook, I've played a lot more of NYT's Spelling Bee and realised there are even better rules than I thought. I'd like to implement them here.\n",
    "\n",
    "- There should be at least 1 pangram available from all the letters available.\n",
    "- There should be a minimum number of words available to make from the letters available.\n",
    "\n",
    "So I want to shift the focus towards NLP-style working, running more checks on the random letters selected to make more words available and ensure letter selection is better (i.e. not random anymore).\n",
    "\n",
    "I wonder if you could do this backwards, start with words that have lots of words within them? Maybe another notebook for reverse engineering."
   ]
  },
  {
   "cell_type": "code",
   "execution_count": null,
   "id": "8e0e0618-3415-4957-ace0-2d0159754f62",
   "metadata": {},
   "outputs": [],
   "source": []
  }
 ],
 "metadata": {
  "kernelspec": {
   "display_name": "Python 3 (ipykernel)",
   "language": "python",
   "name": "python3"
  },
  "language_info": {
   "codemirror_mode": {
    "name": "ipython",
    "version": 3
   },
   "file_extension": ".py",
   "mimetype": "text/x-python",
   "name": "python",
   "nbconvert_exporter": "python",
   "pygments_lexer": "ipython3",
   "version": "3.9.7"
  }
 },
 "nbformat": 4,
 "nbformat_minor": 5
}
