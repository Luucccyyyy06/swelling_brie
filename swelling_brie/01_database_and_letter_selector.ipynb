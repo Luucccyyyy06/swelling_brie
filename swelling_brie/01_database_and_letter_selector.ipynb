{
 "cells": [
  {
   "cell_type": "markdown",
   "metadata": {},
   "source": [
    "# Plan - Core\n",
    "\n",
    "1. Find a corpus of English words as my database\n",
    "\n",
    "2. Create a random selector for 7 letters from the alphabet (no repeats), with 1 letter being ‘central’.\n",
    "\n",
    "3. When user enters a word, the word can ONLY contain the 7 letters, and MUST contain the central letter, and the created word MUST be in the database. \n",
    "\n",
    "4. Store the successful word, and give user points depending on the length of the word and store these.\n"
   ]
  },
  {
   "cell_type": "code",
   "execution_count": 156,
   "metadata": {},
   "outputs": [],
   "source": [
    "import pandas as pd\n",
    "import nltk\n",
    "import string\n",
    "import random"
   ]
  },
  {
   "cell_type": "markdown",
   "metadata": {},
   "source": [
    "## 1. Set up corpus from NLTK"
   ]
  },
  {
   "cell_type": "code",
   "execution_count": 157,
   "metadata": {},
   "outputs": [
    {
     "name": "stderr",
     "output_type": "stream",
     "text": [
      "[nltk_data] Downloading package words to\n",
      "[nltk_data]     /Users/lucy.bowles/nltk_data...\n",
      "[nltk_data]   Package words is already up-to-date!\n"
     ]
    }
   ],
   "source": [
    "nltk.download(\"words\")\n",
    "words = nltk.corpus.words.words()"
   ]
  },
  {
   "cell_type": "markdown",
   "metadata": {},
   "source": [
    "Not sure if this corpus is gonna work as some words are kinda nonsense and too short."
   ]
  },
  {
   "cell_type": "markdown",
   "metadata": {},
   "source": [
    "## 2. Create a random selector for the letters"
   ]
  },
  {
   "cell_type": "markdown",
   "metadata": {},
   "source": [
    "**Thoughts**\n",
    "- Need to make sure there are no repeated selections from the alphabet list\n",
    "\n"
   ]
  },
  {
   "cell_type": "markdown",
   "metadata": {},
   "source": [
    "**Thoughts**\n",
    "- There needs to be at least 1 vowel in the seven letters"
   ]
  },
  {
   "cell_type": "markdown",
   "metadata": {},
   "source": [
    "**Function plan:**\n",
    "1. Pull a sample of 7 letters\n",
    "2. Check that the sample contains at least 1 vowel\n",
    "3. If seven_letters passes the checks, then go on with making seven_letters_no_commas and the central letter"
   ]
  },
  {
   "cell_type": "code",
   "execution_count": 158,
   "metadata": {},
   "outputs": [],
   "source": [
    "def letter_selector(alphabet: str):\n",
    "    print(f\"Selecting 7 letters...\")\n",
    "    seven_letters = random.sample(alphabet, 7)\n",
    "    return seven_letters"
   ]
  },
  {
   "cell_type": "code",
   "execution_count": 159,
   "metadata": {},
   "outputs": [],
   "source": [
    "def vowel_checker(seven_letters: list):\n",
    "    print(f\"Checking vowels...\")\n",
    "    vowels = ['a', 'e', 'i', 'o', 'u']\n",
    "    if set(seven_letters).isdisjoint(vowels):\n",
    "        print(\"Vowel needed: Searching for new letters\")\n",
    "        pass\n",
    "    else:\n",
    "        return True\n",
    "        "
   ]
  },
  {
   "cell_type": "code",
   "execution_count": 160,
   "metadata": {},
   "outputs": [],
   "source": [
    "def final_letters(seven_letters: list):\n",
    "    print(f\"Collating letters...\")\n",
    "    seven_letters_no_commas = ''.join(seven_letters)\n",
    "    central_letter = random.sample(seven_letters, 1)\n",
    "        \n",
    "    return seven_letters, seven_letters_no_commas, central_letter"
   ]
  },
  {
   "cell_type": "code",
   "execution_count": 161,
   "metadata": {},
   "outputs": [],
   "source": [
    "def lets_start(alphabet: str):\n",
    "    print(f\"Starting...\")\n",
    "    seven_letters = letter_selector(alphabet)\n",
    "    while vowel_checker(seven_letters) is not True:\n",
    "        seven_letters = vowel_checker(alphabet)\n",
    "    else:\n",
    "        seven_letters, seven_letters_no_commas, central_letter = final_letters(seven_letters)\n",
    "        return seven_letters, seven_letters_no_commas, central_letter"
   ]
  },
  {
   "cell_type": "code",
   "execution_count": 162,
   "metadata": {},
   "outputs": [
    {
     "name": "stdout",
     "output_type": "stream",
     "text": [
      "Starting...\n",
      "Selecting 7 letters...\n",
      "Checking vowels...\n",
      "Collating letters...\n"
     ]
    }
   ],
   "source": [
    "seven_letters, seven_letters_no_commas, central_letter = lets_start(alphabet)"
   ]
  },
  {
   "cell_type": "code",
   "execution_count": 163,
   "metadata": {},
   "outputs": [
    {
     "name": "stdout",
     "output_type": "stream",
     "text": [
      "['w', 'y', 'g', 's', 'k', 'l', 'o']\n",
      "wygsklo\n",
      "['y']\n"
     ]
    }
   ],
   "source": [
    "print(seven_letters)\n",
    "print(seven_letters_no_commas)\n",
    "print(central_letter)"
   ]
  },
  {
   "cell_type": "markdown",
   "metadata": {},
   "source": [
    "## 3. Set up the rules"
   ]
  },
  {
   "cell_type": "markdown",
   "metadata": {},
   "source": [
    "RULES:\n",
    "1. When user enters a word, the word can ONLY contain the 7 letters\n",
    "2. MUST contain the central letter\n",
    "3. Created word MUST be in the database\n",
    "4. Word MUST be longer than 3 letters"
   ]
  },
  {
   "cell_type": "code",
   "execution_count": 164,
   "metadata": {},
   "outputs": [],
   "source": [
    "def letters_checker(seven_letters: list, user_entry_list: list):\n",
    "\n",
    "    print(f\"Checking letters...\")\n",
    "    print(f\"seven letters: {seven_letters}\")\n",
    "\n",
    "    if set(seven_letters).isdisjoint(user_entry_list):\n",
    "        print(\"Only include allowed letters\")\n",
    "        pass\n",
    "    else:\n",
    "        return True"
   ]
  },
  {
   "cell_type": "code",
   "execution_count": 178,
   "metadata": {},
   "outputs": [],
   "source": [
    "def central_letter_check(user_entry_list: list, central_letter: str):\n",
    "\n",
    "    print(f\"Checking central letter...\")\n",
    "\n",
    "    print(f\"central letter: {central_letter}\")\n",
    "    print(f\"user entry list: {user_entry_list}\")\n",
    "\n",
    "    while central_letter in user_entry_list:\n",
    "        return True\n",
    "    else:\n",
    "        print(\"Must include central letter\")\n",
    "        return False"
   ]
  },
  {
   "cell_type": "code",
   "execution_count": 181,
   "metadata": {},
   "outputs": [
    {
     "name": "stdout",
     "output_type": "stream",
     "text": [
      "Seven letters: ['w', 'y', 'g', 's', 'k', 'l', 'o']\n",
      "Central letter: ['y']\n",
      "\n",
      "Checking letters...\n",
      "seven letters: ['w', 'y', 'g', 's', 'k', 'l', 'o']\n",
      "Checking central letter...\n",
      "central letter: ['y']\n",
      "user entry list: ['y', 'o', 'l', 'k']\n",
      "Must include central letter\n"
     ]
    },
    {
     "ename": "AssertionError",
     "evalue": "Must include central letter",
     "output_type": "error",
     "traceback": [
      "\u001b[0;31m---------------------------------------------------------------------------\u001b[0m",
      "\u001b[0;31mAssertionError\u001b[0m                            Traceback (most recent call last)",
      "\u001b[1;32m/Users/lucy.bowles/projects/funky_friday/swelling_brie/swelling_brie/01_database_and_letter_selector.ipynb Cell 20'\u001b[0m in \u001b[0;36m<cell line: 11>\u001b[0;34m()\u001b[0m\n\u001b[1;32m      <a href='vscode-notebook-cell:/Users/lucy.bowles/projects/funky_friday/swelling_brie/swelling_brie/01_database_and_letter_selector.ipynb#ch0000006?line=8'>9</a>\u001b[0m \u001b[39massert\u001b[39;00m \u001b[39mlen\u001b[39m(user_entry_list) \u001b[39m>\u001b[39m \u001b[39m3\u001b[39m, \u001b[39mf\u001b[39m\u001b[39m\"\u001b[39m\u001b[39mWord is too short\u001b[39m\u001b[39m\"\u001b[39m\n\u001b[1;32m     <a href='vscode-notebook-cell:/Users/lucy.bowles/projects/funky_friday/swelling_brie/swelling_brie/01_database_and_letter_selector.ipynb#ch0000006?line=9'>10</a>\u001b[0m \u001b[39massert\u001b[39;00m user_entry \u001b[39min\u001b[39;00m words, \u001b[39mf\u001b[39m\u001b[39m\"\u001b[39m\u001b[39mNot in word list\u001b[39m\u001b[39m\"\u001b[39m\n\u001b[0;32m---> <a href='vscode-notebook-cell:/Users/lucy.bowles/projects/funky_friday/swelling_brie/swelling_brie/01_database_and_letter_selector.ipynb#ch0000006?line=10'>11</a>\u001b[0m \u001b[39massert\u001b[39;00m central_letter_check(user_entry_list, central_letter) \u001b[39m==\u001b[39m \u001b[39mTrue\u001b[39;00m, \u001b[39mf\u001b[39m\u001b[39m\"\u001b[39m\u001b[39mMust include central letter\u001b[39m\u001b[39m\"\u001b[39m\n",
      "\u001b[0;31mAssertionError\u001b[0m: Must include central letter"
     ]
    }
   ],
   "source": [
    "print(f\"Seven letters: {seven_letters}\")\n",
    "print(f\"Central letter: {central_letter}\")\n",
    "print()\n",
    "\n",
    "user_entry = input(\"Enter your word: \")\n",
    "user_entry_list = list(user_entry)\n",
    "\n",
    "assert letters_checker(seven_letters, user_entry_list) == True, f\"Must only include allowed letters\"\n",
    "assert len(user_entry_list) > 3, f\"Word is too short\"\n",
    "assert user_entry in words, f\"Not in word list\"\n",
    "assert central_letter_check(user_entry_list, central_letter) == True, f\"Must include central letter\"\n",
    "\n"
   ]
  },
  {
   "cell_type": "code",
   "execution_count": null,
   "metadata": {},
   "outputs": [],
   "source": [
    "assert central_letter in user_entry, f\"Must include central letter\"\n",
    "assert len(user_entry) > 3, f\"Word is too short.\"\n",
    "assert user_entry in words, f\"Not in word list\""
   ]
  },
  {
   "cell_type": "code",
   "execution_count": null,
   "metadata": {},
   "outputs": [],
   "source": []
  }
 ],
 "metadata": {
  "interpreter": {
   "hash": "155f67e5c998b05254014864fa7bf3b1c3dae368ca471baa3c3c088f9c109a24"
  },
  "kernelspec": {
   "display_name": "Python 3.9.7 ('ds-trend-analysis-efnjfnbe-py3.9')",
   "language": "python",
   "name": "python3"
  },
  "language_info": {
   "codemirror_mode": {
    "name": "ipython",
    "version": 3
   },
   "file_extension": ".py",
   "mimetype": "text/x-python",
   "name": "python",
   "nbconvert_exporter": "python",
   "pygments_lexer": "ipython3",
   "version": "3.9.7"
  },
  "orig_nbformat": 4
 },
 "nbformat": 4,
 "nbformat_minor": 2
}
