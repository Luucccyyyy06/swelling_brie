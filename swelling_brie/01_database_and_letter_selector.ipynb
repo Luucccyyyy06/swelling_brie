{
 "cells": [
  {
   "cell_type": "markdown",
   "metadata": {},
   "source": [
    "# Basic game - Letter selector and Rules\n",
    "\n",
    "1. Find a corpus of English words as my database\n",
    "\n",
    "2. Create a random selector for 7 letters from the alphabet (no repeats), with 1 letter being ‘central’.\n",
    "\n",
    "3. When user enters a word, the word can ONLY contain the 7 letters given, and MUST contain the central letter, it MUST be longer than 3 letters, and the created word MUST be in the database. \n",
    "\n",
    "4. Store the successful word, and give user points depending on the length of the word and store these for user to see.\n"
   ]
  },
  {
   "cell_type": "code",
   "execution_count": 1,
   "metadata": {},
   "outputs": [],
   "source": [
    "import pandas as pd\n",
    "import nltk\n",
    "import string\n",
    "import random"
   ]
  },
  {
   "cell_type": "markdown",
   "metadata": {},
   "source": [
    "## 1. Set up corpus from NLTK"
   ]
  },
  {
   "cell_type": "code",
   "execution_count": 2,
   "metadata": {},
   "outputs": [
    {
     "name": "stderr",
     "output_type": "stream",
     "text": [
      "[nltk_data] Downloading package words to\n",
      "[nltk_data]     /Users/lucy.bowles/nltk_data...\n",
      "[nltk_data]   Package words is already up-to-date!\n"
     ]
    }
   ],
   "source": [
    "nltk.download(\"words\")\n",
    "words = nltk.corpus.words.words()"
   ]
  },
  {
   "cell_type": "markdown",
   "metadata": {},
   "source": [
    "Not sure if this corpus is gonna work as some words are kinda nonsense and too short."
   ]
  },
  {
   "cell_type": "markdown",
   "metadata": {},
   "source": [
    "## 2. Create a random selector for the letters"
   ]
  },
  {
   "cell_type": "markdown",
   "metadata": {},
   "source": [
    "**Letter selector process plan:**\n",
    "1. Pull a sample of 7 letters\n",
    "2. Check that the sample contains at least 1 vowel\n",
    "3. If seven_letters passes the checks, then go on with making seven_letters_no_commas and the central letter"
   ]
  },
  {
   "cell_type": "code",
   "execution_count": 3,
   "metadata": {},
   "outputs": [],
   "source": [
    "alphabet = list(string.ascii_lowercase)\n",
    "\n",
    "def letter_selector(alphabet: str):\n",
    "    print(f\"Selecting 7 letters...\")\n",
    "    seven_letters = random.sample(alphabet, 7)\n",
    "    return seven_letters"
   ]
  },
  {
   "cell_type": "code",
   "execution_count": 4,
   "metadata": {},
   "outputs": [],
   "source": [
    "def vowel_checker(seven_letters: list):\n",
    "    print(f\"Checking vowels...\")\n",
    "    vowels = ['a', 'e', 'i', 'o', 'u']\n",
    "    if set(seven_letters).isdisjoint(vowels):\n",
    "        print(\"Vowel needed: Searching for new letters\")\n",
    "        pass\n",
    "    else:\n",
    "        return True\n",
    "        "
   ]
  },
  {
   "cell_type": "code",
   "execution_count": 5,
   "metadata": {},
   "outputs": [],
   "source": [
    "def final_letters(seven_letters: list):\n",
    "    print(f\"Collating letters...\")\n",
    "    seven_letters_no_commas = ''.join(seven_letters)\n",
    "    central_letter = random.sample(seven_letters, 1)\n",
    "        \n",
    "    return seven_letters, seven_letters_no_commas, central_letter"
   ]
  },
  {
   "cell_type": "code",
   "execution_count": 6,
   "metadata": {},
   "outputs": [],
   "source": [
    "def lets_start(alphabet: list):\n",
    "    print(f\"Starting...\")\n",
    "    seven_letters = letter_selector(alphabet)\n",
    "    if vowel_checker(seven_letters) is not True:\n",
    "        seven_letters = letter_selector(alphabet)\n",
    "    else:\n",
    "        seven_letters, seven_letters_no_commas, central_letter = final_letters(seven_letters)\n",
    "        print(f\"Your letters are: {seven_letters}\")\n",
    "        print(f\"Your central letter is: {central_letter}\")\n",
    "\n",
    "    return seven_letters, seven_letters_no_commas, central_letter"
   ]
  },
  {
   "cell_type": "markdown",
   "metadata": {},
   "source": [
    "## 3. Set up the rules"
   ]
  },
  {
   "cell_type": "markdown",
   "metadata": {},
   "source": [
    "**RULES:**\n",
    "1. When user enters a word, the word can ONLY contain the 7 letters\n",
    "2. MUST contain the central letter\n",
    "3. Created word MUST be in the database\n",
    "4. Word MUST be longer than 3 letters\n",
    "5. Cannot have the same word twice"
   ]
  },
  {
   "cell_type": "code",
   "execution_count": 7,
   "metadata": {},
   "outputs": [],
   "source": [
    "def letters_checker(seven_letters: list, user_entry_list: list):\n",
    "\n",
    "    print(f\"Checking letters...\")\n",
    "\n",
    "    if set(seven_letters).isdisjoint(user_entry_list):\n",
    "        print(\"Only include allowed letters\")\n",
    "        pass\n",
    "    else:\n",
    "        return True"
   ]
  },
  {
   "cell_type": "code",
   "execution_count": 8,
   "metadata": {},
   "outputs": [],
   "source": [
    "def central_letter_check(user_entry_list: list, central_letter: str):\n",
    "\n",
    "    print(f\"Checking central letter...\")\n",
    "\n",
    "    if central_letter[0] in user_entry_list:\n",
    "        return True\n",
    "    else:\n",
    "        print(\"Must include central letter\")\n",
    "        return False"
   ]
  },
  {
   "cell_type": "markdown",
   "metadata": {},
   "source": [
    "## 4. Points system"
   ]
  },
  {
   "cell_type": "code",
   "execution_count": 9,
   "metadata": {},
   "outputs": [],
   "source": [
    "def points_per_word(successful_word: str):\n",
    "    word_points = len(successful_word)\n",
    "    return word_points"
   ]
  },
  {
   "cell_type": "markdown",
   "metadata": {},
   "source": [
    "## 5. Extra quality of life\n",
    "1. The letters provided MUST create at least 3-5 possible words\n",
    "2. Ideally, a pangram should be available\n",
    "3. Ideally, more than 1 vowel in the list\n",
    "4. Probably should weight the letters by their frequency in the dictionary."
   ]
  },
  {
   "cell_type": "code",
   "execution_count": null,
   "metadata": {},
   "outputs": [],
   "source": []
  },
  {
   "cell_type": "code",
   "execution_count": null,
   "metadata": {},
   "outputs": [],
   "source": []
  },
  {
   "cell_type": "code",
   "execution_count": null,
   "metadata": {},
   "outputs": [],
   "source": []
  },
  {
   "cell_type": "code",
   "execution_count": null,
   "metadata": {},
   "outputs": [],
   "source": []
  },
  {
   "cell_type": "markdown",
   "metadata": {},
   "source": [
    "## X. Run game!"
   ]
  },
  {
   "cell_type": "code",
   "execution_count": 10,
   "metadata": {},
   "outputs": [
    {
     "ename": "SyntaxError",
     "evalue": "invalid syntax (1139228987.py, line 16)",
     "output_type": "error",
     "traceback": [
      "\u001b[0;36m  Input \u001b[0;32mIn [10]\u001b[0;36m\u001b[0m\n\u001b[0;31m    print(\"Great! Added to list\")\u001b[0m\n\u001b[0m    ^\u001b[0m\n\u001b[0;31mSyntaxError\u001b[0m\u001b[0;31m:\u001b[0m invalid syntax\n"
     ]
    }
   ],
   "source": [
    "successful_words = []\n",
    "score = 0\n",
    "\n",
    "seven_letters, seven_letters_no_commas, central_letter = lets_start(alphabet)\n",
    "\n",
    "user_entry = input(\"Enter your word: \")\n",
    "user_entry_list = list(user_entry)\n",
    "\n",
    "try:\n",
    "    assert letters_checker(seven_letters, user_entry_list) == True, f\"Must only include allowed letters\"\n",
    "    assert len(user_entry_list) > 3, f\"Word is too short\"\n",
    "    assert user_entry in words, f\"Not in word list\"\n",
    "    assert central_letter_check(user_entry_list, central_letter) == True, f\"Must include central letter\"\n",
    "    assert user_entry not in successful_words, f\"Word already entered\"\n",
    "\n",
    "print(\"Great! Added to list\")\n",
    "\n",
    "except:\n",
    "    user_entry = input(f\"Try again: Type a new word: \")\n"
   ]
  },
  {
   "cell_type": "code",
   "execution_count": null,
   "metadata": {},
   "outputs": [],
   "source": [
    "successful_words.append(user_entry)\n",
    "score = score + points_per_word(user_entry)\n",
    "print(f\"Your words so far: {successful_words}\")\n",
    "print(f\"Your score: {score}\")"
   ]
  },
  {
   "cell_type": "code",
   "execution_count": null,
   "metadata": {},
   "outputs": [],
   "source": []
  }
 ],
 "metadata": {
  "interpreter": {
   "hash": "9370023ec619aa50ad4fa2490811ab45d2b4b55758c75f02f6578a5fc4c5b580"
  },
  "kernelspec": {
   "display_name": "Python 3.9.7 ('nltk-course-tYfE9Auq-py3.9')",
   "language": "python",
   "name": "python3"
  },
  "language_info": {
   "codemirror_mode": {
    "name": "ipython",
    "version": 3
   },
   "file_extension": ".py",
   "mimetype": "text/x-python",
   "name": "python",
   "nbconvert_exporter": "python",
   "pygments_lexer": "ipython3",
   "version": "3.9.7"
  },
  "orig_nbformat": 4
 },
 "nbformat": 4,
 "nbformat_minor": 2
}
