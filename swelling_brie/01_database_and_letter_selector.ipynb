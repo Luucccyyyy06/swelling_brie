{
 "cells": [
  {
   "cell_type": "markdown",
   "metadata": {},
   "source": [
    "# Plan - Core\n",
    "\n",
    "1. Find a corpus of English words as my database\n",
    "\n",
    "2. Create a random selector for 7 letters from the alphabet (no repeats), with 1 letter being ‘central’.\n",
    "\n",
    "3. When user enters a word, the word can ONLY contain the 7 letters, and MUST contain the central letter, and the created word MUST be in the database. \n",
    "\n",
    "4. Store the successful word, and give user points depending on the length of the word and store these.\n"
   ]
  },
  {
   "cell_type": "code",
   "execution_count": 84,
   "metadata": {},
   "outputs": [],
   "source": [
    "import pandas as pd\n",
    "import nltk\n",
    "import string\n",
    "import random"
   ]
  },
  {
   "cell_type": "markdown",
   "metadata": {},
   "source": [
    "## 1. Set up corpus from NLTK"
   ]
  },
  {
   "cell_type": "code",
   "execution_count": 85,
   "metadata": {},
   "outputs": [
    {
     "name": "stderr",
     "output_type": "stream",
     "text": [
      "[nltk_data] Downloading package words to\n",
      "[nltk_data]     /Users/lucy.bowles/nltk_data...\n",
      "[nltk_data]   Package words is already up-to-date!\n"
     ]
    }
   ],
   "source": [
    "nltk.download(\"words\")\n",
    "words = nltk.corpus.words.words()"
   ]
  },
  {
   "cell_type": "markdown",
   "metadata": {},
   "source": [
    "Not sure if this corpus is gonna work as some words are kinda nonsense and too short."
   ]
  },
  {
   "cell_type": "markdown",
   "metadata": {},
   "source": [
    "## 2. Create a random selector for the letters"
   ]
  },
  {
   "cell_type": "markdown",
   "metadata": {},
   "source": [
    "**Thoughts**\n",
    "- Need to make sure there are no repeated selections from the alphabet list\n",
    "\n"
   ]
  },
  {
   "cell_type": "code",
   "execution_count": 86,
   "metadata": {},
   "outputs": [
    {
     "name": "stdout",
     "output_type": "stream",
     "text": [
      "['i', 'z', 'y', 'o', 's', 'a', 'c']\n",
      "izyosac\n",
      "['o']\n"
     ]
    }
   ],
   "source": [
    "seven_letters = random.sample(alphabet, 7)\n",
    "seven_letters_no_commas = ''.join(seven_letters)\n",
    "\n",
    "print(seven_letters)\n",
    "print(seven_letters_no_commas)\n",
    "\n",
    "central_letter = random.sample(seven_letters, 1)\n",
    "print(central_letter)"
   ]
  },
  {
   "cell_type": "code",
   "execution_count": 87,
   "metadata": {},
   "outputs": [],
   "source": [
    "def letter_selector(alphabet: str):\n",
    "    seven_letters = random.sample(alphabet, 7)\n",
    "    seven_letters_no_commas = ''.join(seven_letters)\n",
    "    central_letter = random.sample(seven_letters, 1)\n",
    "    return seven_letters, seven_letters_no_commas, central_letter\n"
   ]
  },
  {
   "cell_type": "code",
   "execution_count": 88,
   "metadata": {},
   "outputs": [
    {
     "name": "stdout",
     "output_type": "stream",
     "text": [
      "['u', 'q', 'k', 'w', 'f', 'a', 'j']\n",
      "uqkwfaj\n",
      "['a']\n"
     ]
    }
   ],
   "source": [
    "seven_letters, seven_letters_no_commas, central_letter = letter_selector(alphabet=alphabet)\n",
    "\n",
    "print(seven_letters)\n",
    "print(seven_letters_no_commas)\n",
    "print(central_letter)"
   ]
  },
  {
   "cell_type": "markdown",
   "metadata": {},
   "source": [
    "**Thoughts**\n",
    "- There needs to be at least 1 vowel in the seven letters"
   ]
  },
  {
   "cell_type": "code",
   "execution_count": 89,
   "metadata": {},
   "outputs": [],
   "source": [
    "def check_vowels(seven_letters: list):\n",
    "    vowels = ['a', 'e', 'i', 'o', 'u']\n",
    "    if any(vowels not in seven_letters):\n",
    "        print(\"Vowel needed: Searching for new letters\")\n",
    "        pass\n",
    "    else:\n",
    "        return True"
   ]
  },
  {
   "cell_type": "code",
   "execution_count": 90,
   "metadata": {},
   "outputs": [],
   "source": [
    "def letter_selector(alphabet: str):\n",
    "    seven_letters = random.sample(alphabet, 7)\n",
    "    if check_vowels(seven_letters) == True:\n",
    "        seven_letters_no_commas = ''.join(seven_letters)\n",
    "        central_letter = random.sample(seven_letters, 1)\n",
    "        \n",
    "    return seven_letters, seven_letters_no_commas, central_letter\n"
   ]
  },
  {
   "cell_type": "markdown",
   "metadata": {},
   "source": []
  },
  {
   "cell_type": "code",
   "execution_count": 91,
   "metadata": {},
   "outputs": [
    {
     "name": "stdout",
     "output_type": "stream",
     "text": [
      "Vowel needed: Searching for new letters\n"
     ]
    },
    {
     "ename": "UnboundLocalError",
     "evalue": "local variable 'seven_letters_no_commas' referenced before assignment",
     "output_type": "error",
     "traceback": [
      "\u001b[0;31m---------------------------------------------------------------------------\u001b[0m",
      "\u001b[0;31mUnboundLocalError\u001b[0m                         Traceback (most recent call last)",
      "\u001b[1;32m/Users/lucy.bowles/projects/funky_friday/swelling_brie/swelling_brie/01_database_and_letter_selector.ipynb Cell 14'\u001b[0m in \u001b[0;36m<cell line: 1>\u001b[0;34m()\u001b[0m\n\u001b[0;32m----> <a href='vscode-notebook-cell:/Users/lucy.bowles/projects/funky_friday/swelling_brie/swelling_brie/01_database_and_letter_selector.ipynb#ch0000021?line=0'>1</a>\u001b[0m letter_selector(alphabet)\n",
      "\u001b[1;32m/Users/lucy.bowles/projects/funky_friday/swelling_brie/swelling_brie/01_database_and_letter_selector.ipynb Cell 13'\u001b[0m in \u001b[0;36mletter_selector\u001b[0;34m(alphabet)\u001b[0m\n\u001b[1;32m      <a href='vscode-notebook-cell:/Users/lucy.bowles/projects/funky_friday/swelling_brie/swelling_brie/01_database_and_letter_selector.ipynb#ch0000020?line=3'>4</a>\u001b[0m     seven_letters_no_commas \u001b[39m=\u001b[39m \u001b[39m'\u001b[39m\u001b[39m'\u001b[39m\u001b[39m.\u001b[39mjoin(seven_letters)\n\u001b[1;32m      <a href='vscode-notebook-cell:/Users/lucy.bowles/projects/funky_friday/swelling_brie/swelling_brie/01_database_and_letter_selector.ipynb#ch0000020?line=4'>5</a>\u001b[0m     central_letter \u001b[39m=\u001b[39m random\u001b[39m.\u001b[39msample(seven_letters, \u001b[39m1\u001b[39m)\n\u001b[0;32m----> <a href='vscode-notebook-cell:/Users/lucy.bowles/projects/funky_friday/swelling_brie/swelling_brie/01_database_and_letter_selector.ipynb#ch0000020?line=6'>7</a>\u001b[0m \u001b[39mreturn\u001b[39;00m seven_letters, seven_letters_no_commas, central_letter\n",
      "\u001b[0;31mUnboundLocalError\u001b[0m: local variable 'seven_letters_no_commas' referenced before assignment"
     ]
    }
   ],
   "source": [
    "letter_selector(alphabet)"
   ]
  },
  {
   "cell_type": "markdown",
   "metadata": {},
   "source": [
    "## 3. Set up the rules"
   ]
  },
  {
   "cell_type": "markdown",
   "metadata": {},
   "source": [
    "RULES:\n",
    "1. When user enters a word, the word can ONLY contain the 7 letters\n",
    "2. MUST contain the central letter\n",
    "3. Created word MUST be in the database\n",
    "4. Word MUST be longer than 3 letters"
   ]
  },
  {
   "cell_type": "code",
   "execution_count": null,
   "metadata": {},
   "outputs": [],
   "source": [
    "print(seven_letters,\n",
    "     central_letter)"
   ]
  },
  {
   "cell_type": "code",
   "execution_count": null,
   "metadata": {},
   "outputs": [],
   "source": [
    "user_entry = input(\"Enter your word: \")\n",
    "assert user_entry in seven_letters_no_commas, f\"Only include allowed letters\"\n",
    "assert central_letter in user_entry, f\"Must include central letter\"\n",
    "assert len(user_entry) > 3, f\"Word is too short.\"\n",
    "assert user_entry in words, f\"Not in word list\"\n",
    "\n"
   ]
  },
  {
   "cell_type": "code",
   "execution_count": null,
   "metadata": {},
   "outputs": [],
   "source": []
  }
 ],
 "metadata": {
  "interpreter": {
   "hash": "155f67e5c998b05254014864fa7bf3b1c3dae368ca471baa3c3c088f9c109a24"
  },
  "kernelspec": {
   "display_name": "Python 3.9.7 ('ds-trend-analysis-efnjfnbe-py3.9')",
   "language": "python",
   "name": "python3"
  },
  "language_info": {
   "codemirror_mode": {
    "name": "ipython",
    "version": 3
   },
   "file_extension": ".py",
   "mimetype": "text/x-python",
   "name": "python",
   "nbconvert_exporter": "python",
   "pygments_lexer": "ipython3",
   "version": "3.9.7"
  },
  "orig_nbformat": 4
 },
 "nbformat": 4,
 "nbformat_minor": 2
}
