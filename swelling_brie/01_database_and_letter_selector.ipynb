{
 "cells": [
  {
   "cell_type": "markdown",
   "metadata": {},
   "source": [
    "# Plan - Core\n",
    "\n",
    "1. Find a corpus of English words as my database\n",
    "\n",
    "2. Create a random selector for 7 letters from the alphabet (no repeats), with 1 letter being ‘central’.\n",
    "\n",
    "3. When user enters a word, the word can ONLY contain the 7 letters given, and MUST contain the central letter, it MUST be longer than 3 letters, and the created word MUST be in the database. \n",
    "\n",
    "4. Store the successful word, and give user points depending on the length of the word and store these for user to see.\n"
   ]
  },
  {
   "cell_type": "code",
   "execution_count": 239,
   "metadata": {},
   "outputs": [],
   "source": [
    "import pandas as pd\n",
    "import nltk\n",
    "import string\n",
    "import random"
   ]
  },
  {
   "cell_type": "markdown",
   "metadata": {},
   "source": [
    "## 1. Set up corpus from NLTK"
   ]
  },
  {
   "cell_type": "code",
   "execution_count": 240,
   "metadata": {},
   "outputs": [
    {
     "name": "stderr",
     "output_type": "stream",
     "text": [
      "[nltk_data] Downloading package words to\n",
      "[nltk_data]     /Users/lucy.bowles/nltk_data...\n",
      "[nltk_data]   Package words is already up-to-date!\n"
     ]
    }
   ],
   "source": [
    "nltk.download(\"words\")\n",
    "words = nltk.corpus.words.words()"
   ]
  },
  {
   "cell_type": "markdown",
   "metadata": {},
   "source": [
    "Not sure if this corpus is gonna work as some words are kinda nonsense and too short."
   ]
  },
  {
   "cell_type": "markdown",
   "metadata": {},
   "source": [
    "## 2. Create a random selector for the letters"
   ]
  },
  {
   "cell_type": "code",
   "execution_count": 241,
   "metadata": {},
   "outputs": [],
   "source": [
    "alphabet = list(string.ascii_lowercase)"
   ]
  },
  {
   "cell_type": "markdown",
   "metadata": {},
   "source": [
    "**Thoughts**\n",
    "- Need to make sure there are no repeated selections from the alphabet list\n",
    "\n",
    "- There needs to be at least 1 vowel in the seven letters\n",
    "\n",
    "- There probably should be some weighting to the letters eventually, as I don't want 3 out of my 7 letters to be y, j, x, when they aren't as frequent\n"
   ]
  },
  {
   "cell_type": "markdown",
   "metadata": {},
   "source": [
    "**Letter selector process plan:**\n",
    "1. Pull a sample of 7 letters\n",
    "2. Check that the sample contains at least 1 vowel\n",
    "3. If seven_letters passes the checks, then go on with making seven_letters_no_commas and the central letter"
   ]
  },
  {
   "cell_type": "code",
   "execution_count": 242,
   "metadata": {},
   "outputs": [],
   "source": [
    "def letter_selector(alphabet: str):\n",
    "    print(f\"Selecting 7 letters...\")\n",
    "    seven_letters = random.sample(alphabet, 7)\n",
    "    return seven_letters"
   ]
  },
  {
   "cell_type": "code",
   "execution_count": 243,
   "metadata": {},
   "outputs": [],
   "source": [
    "def vowel_checker(seven_letters: list):\n",
    "    print(f\"Checking vowels...\")\n",
    "    vowels = ['a', 'e', 'i', 'o', 'u']\n",
    "    if set(seven_letters).isdisjoint(vowels):\n",
    "        print(\"Vowel needed: Searching for new letters\")\n",
    "        pass\n",
    "    else:\n",
    "        return True\n",
    "        "
   ]
  },
  {
   "cell_type": "code",
   "execution_count": 244,
   "metadata": {},
   "outputs": [],
   "source": [
    "def final_letters(seven_letters: list):\n",
    "    print(f\"Collating letters...\")\n",
    "    seven_letters_no_commas = ''.join(seven_letters)\n",
    "    central_letter = random.sample(seven_letters, 1)\n",
    "        \n",
    "    return seven_letters, seven_letters_no_commas, central_letter"
   ]
  },
  {
   "cell_type": "code",
   "execution_count": 245,
   "metadata": {},
   "outputs": [],
   "source": [
    "def lets_start(alphabet: list):\n",
    "    print(f\"Starting...\")\n",
    "    seven_letters = letter_selector(alphabet)\n",
    "    while vowel_checker(seven_letters) is not True:\n",
    "        seven_letters = vowel_checker(alphabet)\n",
    "    else:\n",
    "        seven_letters, seven_letters_no_commas, central_letter = final_letters(seven_letters)\n",
    "        return seven_letters, seven_letters_no_commas, central_letter"
   ]
  },
  {
   "cell_type": "code",
   "execution_count": 247,
   "metadata": {},
   "outputs": [
    {
     "name": "stdout",
     "output_type": "stream",
     "text": [
      "Starting...\n",
      "Selecting 7 letters...\n",
      "Checking vowels...\n",
      "Collating letters...\n"
     ]
    }
   ],
   "source": [
    "successful_words = []\n",
    "score = 0\n",
    "\n",
    "seven_letters, seven_letters_no_commas, central_letter = lets_start(alphabet)"
   ]
  },
  {
   "cell_type": "code",
   "execution_count": 248,
   "metadata": {},
   "outputs": [
    {
     "name": "stdout",
     "output_type": "stream",
     "text": [
      "['y', 'f', 'g', 'k', 'p', 'i', 'j']\n",
      "yfgkpij\n",
      "['y']\n"
     ]
    }
   ],
   "source": [
    "print(seven_letters)\n",
    "print(seven_letters_no_commas)\n",
    "print(central_letter)"
   ]
  },
  {
   "cell_type": "markdown",
   "metadata": {},
   "source": [
    "## 3. Set up the rules"
   ]
  },
  {
   "cell_type": "markdown",
   "metadata": {},
   "source": [
    "**RULES:**\n",
    "1. When user enters a word, the word can ONLY contain the 7 letters\n",
    "2. MUST contain the central letter\n",
    "3. Created word MUST be in the database\n",
    "4. Word MUST be longer than 3 letters"
   ]
  },
  {
   "cell_type": "code",
   "execution_count": 249,
   "metadata": {},
   "outputs": [],
   "source": [
    "def letters_checker(seven_letters: list, user_entry_list: list):\n",
    "\n",
    "    print(f\"Checking letters...\")\n",
    "    print(f\"seven letters: {seven_letters}\")\n",
    "\n",
    "    if set(seven_letters).isdisjoint(user_entry_list):\n",
    "        print(\"Only include allowed letters\")\n",
    "        pass\n",
    "    else:\n",
    "        return True"
   ]
  },
  {
   "cell_type": "code",
   "execution_count": 250,
   "metadata": {},
   "outputs": [],
   "source": [
    "def central_letter_check(user_entry_list: list, central_letter: str):\n",
    "\n",
    "    print(f\"Checking central letter...\")\n",
    "\n",
    "    print(f\"central letter: {central_letter}\")\n",
    "    print(f\"user entry list: {user_entry_list}\")\n",
    "\n",
    "    if central_letter[0] in user_entry_list:\n",
    "        return True\n",
    "    else:\n",
    "        print(\"Must include central letter\")\n",
    "        return False"
   ]
  },
  {
   "cell_type": "code",
   "execution_count": 255,
   "metadata": {},
   "outputs": [
    {
     "name": "stdout",
     "output_type": "stream",
     "text": [
      "Seven letters: ['y', 'f', 'g', 'k', 'p', 'i', 'j']\n",
      "Central letter: ['y']\n",
      "\n",
      "Checking letters...\n",
      "seven letters: ['y', 'f', 'g', 'k', 'p', 'i', 'j']\n",
      "Checking central letter...\n",
      "central letter: ['y']\n",
      "user entry list: ['p', 'i', 'g', 'g', 'y']\n",
      "Success! You're clever\n"
     ]
    }
   ],
   "source": [
    "print(f\"Seven letters: {seven_letters}\")\n",
    "print(f\"Central letter: {central_letter}\")\n",
    "print()\n",
    "\n",
    "user_entry = input(\"Enter your word: \")\n",
    "user_entry_list = list(user_entry)\n",
    "\n",
    "try:\n",
    "    assert letters_checker(seven_letters, user_entry_list) == True, f\"Must only include allowed letters\"\n",
    "    assert len(user_entry_list) > 3, f\"Word is too short\"\n",
    "    assert user_entry in words, f\"Not in word list\"\n",
    "    assert central_letter_check(user_entry_list, central_letter) == True, f\"Must include central letter\"\n",
    "except:\n",
    "    user_entry = input(f\"Try again: Type a new word: \")\n",
    "\n",
    "\n",
    "print(\"Success! You're clever\")\n"
   ]
  },
  {
   "cell_type": "markdown",
   "metadata": {},
   "source": [
    "**Thoughts**\n",
    "- if the word isn't correct, the user should be allowed to try again and input another (with an explanation)\n",
    "- if word is correct, then it gets appended to successful_words list"
   ]
  },
  {
   "cell_type": "markdown",
   "metadata": {},
   "source": [
    "## 4. Points system"
   ]
  },
  {
   "cell_type": "markdown",
   "metadata": {},
   "source": [
    "The user gets more points depending on the length of the word\n",
    "- Points == len of word"
   ]
  },
  {
   "cell_type": "code",
   "execution_count": 253,
   "metadata": {},
   "outputs": [],
   "source": [
    "def points_per_word(successful_word: str):\n",
    "    word_points = len(successful_word)\n",
    "    return word_points"
   ]
  },
  {
   "cell_type": "code",
   "execution_count": 256,
   "metadata": {},
   "outputs": [
    {
     "name": "stdout",
     "output_type": "stream",
     "text": [
      "Your words so far: ['figgy', 'piggy']\n",
      "Your score: 10\n"
     ]
    }
   ],
   "source": [
    "successful_words.append(user_entry)\n",
    "score = score + points_per_word(user_entry)\n",
    "print(f\"Your words so far: {successful_words}\")\n",
    "print(f\"Your score: {score}\")\n"
   ]
  },
  {
   "cell_type": "code",
   "execution_count": null,
   "metadata": {},
   "outputs": [],
   "source": []
  }
 ],
 "metadata": {
  "interpreter": {
   "hash": "155f67e5c998b05254014864fa7bf3b1c3dae368ca471baa3c3c088f9c109a24"
  },
  "kernelspec": {
   "display_name": "Python 3.9.7 ('ds-trend-analysis-efnjfnbe-py3.9')",
   "language": "python",
   "name": "python3"
  },
  "language_info": {
   "codemirror_mode": {
    "name": "ipython",
    "version": 3
   },
   "file_extension": ".py",
   "mimetype": "text/x-python",
   "name": "python",
   "nbconvert_exporter": "python",
   "pygments_lexer": "ipython3",
   "version": "3.9.7"
  },
  "orig_nbformat": 4
 },
 "nbformat": 4,
 "nbformat_minor": 2
}
